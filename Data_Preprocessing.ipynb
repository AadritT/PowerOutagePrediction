{
 "cells": [
  {
   "cell_type": "code",
   "execution_count": null,
   "id": "22e388c1",
   "metadata": {
    "jupyter": {
     "outputs_hidden": true
    },
    "tags": []
   },
   "outputs": [],
   "source": [
    "import pandas as pd\n",
    "import matplotlib.pyplot as plt\n",
    "\n",
    "def  DataPrep(location, thres):\n",
    "    df_outages = pd.read_csv('../Data/PowerOutageData/OutagesComplete.csv')\n",
    "    df_outages = df_outages.rename(columns = {\"RecordDate\" : \"datetime\"})\n",
    "    df_outages['datetime'] = pd.to_datetime(df_outages['datetime'])\n",
    "\n",
    "    \n",
    "    util = location[0]\n",
    "    countyName = location[1]\n",
    "    cityName = location[2]\n",
    "\n",
    "    df_out = df_outages.loc[(df_outages[\"UtilityName\"] == util) & (df_outages[\"CountyName\"] == countyName) & (df_outages[\"CityName\"] == cityName)]\n",
    "    df_out['outageValue'] = 100.0 * df_out[\"CustomerHoursOutTotal\"]/(df_out[\"CustomerHoursTrackedTotal\"])\n",
    "    \n",
    "    #df_out.loc[df_out['outageValue'] < thres, 'outageValue'] = 0\n",
    "    #df_out.loc[df_out['outageValue'] >= thres, 'outageValue'] = 1\n",
    "    \n",
    "    average = df_out['outageValue'].mean()\n",
    "    maximum = df_out['outageValue'].max()\n",
    "    minimum = df_out['outageValue'].min()\n",
    "    zeroCount = len(df_out[df_out['outageValue'] == 0])\n",
    "    zeroP = zeroCount/len(df_out['outageValue']) * 100\n",
    "    length = len(df_out['outageValue'])\n",
    "    df_out.hist(column='outageValue',bins=[0, 100, 200, 300, 400, 500, 600 ,700, 800, 900, 1000, 2000, 5000, 100000])\n",
    "    plt.title('Histogram of Column Name')\n",
    "    plt.xlabel('Values')\n",
    "    plt.ylabel('Frequency')\n",
    "    plt.savefig(\"../Results/StatisticsResults/\" + location[2] + '_histogram_20230903.png')\n",
    "    plt.show()\n",
    "    \n",
    "    f = open(\"../Results/StatisticsResults/\"+location[2]+\"_Statistics_20230903.txt\", \"w\")\n",
    "    print(\"average: \" + str(average), file = f)\n",
    "    print(\"max: \" + str(maximum), file = f)\n",
    "    print(\"min: \" + str(minimum), file = f)\n",
    "    print(\"Zeroes: \" + str(zeroCount), file = f)\n",
    "    print(\"Zero percent: \" + str(zeroP), file = f)\n",
    "    print(\"Length: \" + str(length), file = f)        \n",
    "    f.close()\n",
    "    \n",
    "    df_weather = pd.read_csv(\"../Data/WeatherData/\"+cityName+\"_weather.csv\")\n",
    "    df_weather = df_weather[['datetime', 'temp', 'humidity', 'precip', 'windspeed', 'solarradiation']]\n",
    "    df_weather['datetime'] = pd.to_datetime(df_weather['datetime'])\n",
    "    df_weather['Season'] = ((df_weather['datetime'].dt.month).floordiv(3)).mod(4)\n",
    "    \n",
    "    df = df_weather.merge(df_out, how = 'left', on = 'datetime')\n",
    "    \n",
    "    df = df.dropna(axis = 0, how = 'any')\n",
    "    \n",
    "    df.to_csv(\"../Data/GeneratedData/\"+cityName+\"_Weather_Outages.csv\", index= False)\n",
    "    \n",
    "    return (average, maximum, minimum, zeroP)\n",
    "    \n",
    "print(\"done\")\n"
   ]
  },
  {
   "cell_type": "code",
   "execution_count": null,
   "id": "1f6c375d-0ecf-49c2-9e60-f704d82dd3c7",
   "metadata": {
    "jupyter": {
     "outputs_hidden": true
    },
    "tags": []
   },
   "outputs": [],
   "source": [
    "locationList = [\n",
    "    [\"Pacific Gas and Electric Company\", \"Fresno\", \"Fresno\"], \n",
    "                [\"Pacific Gas and Electric Company\", \"San Francisco\", \"San Francisco\"], \n",
    "                [\"Pacific Gas and Electric Company\", \"Santa Clara\", \"San Jose\"],\n",
    "                [\"San Diego Gas & Electric\", \"San Diego\", \"San Diego\"],\n",
    "                [\"Los Angeles Department of Water & Power\", \"Los Angeles\", \"Los Angeles\"], \n",
    "                [\"Puget Sound Energy\", \"Pierce\", \"Tacoma\"], \n",
    "                [\"Puget Sound Energy\", \"King\", \"Bellevue\"], \n",
    "                [\"Puget Sound Energy\", \"King\", \"Seattle\"],\n",
    "                [\"Clark County PUD\", \"Clark\", \"Vancouver\"],\n",
    "                [\"Eugene Water & Electric Board\", \"Lane\", \"Eugene\"]\n",
    "                ]"
   ]
  },
  {
   "cell_type": "code",
   "execution_count": null,
   "id": "57240365-d4b6-4d2d-8b46-17b6a2e8cc4a",
   "metadata": {
    "jupyter": {
     "outputs_hidden": true
    },
    "tags": []
   },
   "outputs": [],
   "source": [
    "df_res = pd.DataFrame(columns= [\"location\", \"average\", \"max\", \"min\", \"ZeroPercent\"])\n",
    "for location in locationList:\n",
    "    avg, mx, mn, zP = DataPrep(location, 0.1)\n",
    "    new_row = {'location': location[2], 'average':avg, 'max':mx, 'min':mn, 'ZeroPercent':zP}\n",
    "    df_res = df_res.append(new_row, ignore_index=True) \n",
    "print (df_res.sort_values(by = [\"ZeroPercent\"]))\n"
   ]
  },
  {
   "cell_type": "code",
   "execution_count": null,
   "id": "cbabb5e4-6030-4bd6-8be4-fddd85cd5dc0",
   "metadata": {
    "jupyter": {
     "outputs_hidden": true
    },
    "tags": []
   },
   "outputs": [],
   "source": [
    "import plotly.figure_factory as ff\n",
    "\n",
    "df_res.to_csv(\"../Results/StatisticsResults/StatisticsSummary.csv\", index = False)\n",
    "df_res = df_res.round(2)\n",
    "\n",
    "fig = ff.create_table(df_res)\n",
    "fig.update_layout(\n",
    "autosize=False,\n",
    "width=500,\n",
    "height=200,\n",
    ")\n",
    "\n",
    "fig.write_image(\"../Results/StatisticsResults/StatTable.png\", scale=2)"
   ]
  }
 ],
 "metadata": {
  "kernelspec": {
   "display_name": "Python 3 (ipykernel)",
   "language": "python",
   "name": "python3"
  },
  "language_info": {
   "codemirror_mode": {
    "name": "ipython",
    "version": 3
   },
   "file_extension": ".py",
   "mimetype": "text/x-python",
   "name": "python",
   "nbconvert_exporter": "python",
   "pygments_lexer": "ipython3",
   "version": "3.11.3"
  },
  "varInspector": {
   "cols": {
    "lenName": 16,
    "lenType": 16,
    "lenVar": 40
   },
   "kernels_config": {
    "python": {
     "delete_cmd_postfix": "",
     "delete_cmd_prefix": "del ",
     "library": "var_list.py",
     "varRefreshCmd": "print(var_dic_list())"
    },
    "r": {
     "delete_cmd_postfix": ") ",
     "delete_cmd_prefix": "rm(",
     "library": "var_list.r",
     "varRefreshCmd": "cat(var_dic_list()) "
    }
   },
   "types_to_exclude": [
    "module",
    "function",
    "builtin_function_or_method",
    "instance",
    "_Feature"
   ],
   "window_display": false
  }
 },
 "nbformat": 4,
 "nbformat_minor": 5
}
